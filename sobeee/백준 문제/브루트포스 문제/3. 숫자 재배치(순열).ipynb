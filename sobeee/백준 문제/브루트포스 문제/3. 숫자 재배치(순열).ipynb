{
 "cells": [
  {
   "cell_type": "code",
   "execution_count": 4,
   "id": "b665a8e4",
   "metadata": {},
   "outputs": [
    {
     "name": "stdout",
     "output_type": "stream",
     "text": [
      "-1\n"
     ]
    }
   ],
   "source": [
    "import sys\n",
    "import itertools\n",
    "\n",
    "def input():\n",
    "    return sys.stdin.readline().strip()\n",
    "\n",
    "# 4! = 24 따라서 10의 9 승은 10자리수 이므로 10! = 3,628,800\n",
    "# 따라서 brute force 가능\n",
    "\n",
    "# a는 정수\n",
    "def mk_permutation(a):\n",
    "    str_a = str(a)\n",
    "    a_array = []\n",
    "    for i in str_a:\n",
    "        a_array.append(i)\n",
    "\n",
    "    a_permutation = list((map(list, itertools.permutations(a_array))))\n",
    "    for i in range(len(a_permutation)):\n",
    "        a_permutation[i] = ''.join(a_permutation[i])\n",
    "    return a_permutation\n",
    "\n",
    "# b 는 구분자(정수). 이것보다 크면 탈락\n",
    "def mk_avail_permutation(a_permutation,b):\n",
    "    a_avail_permutation = []    \n",
    "    # 최대 10! 반복\n",
    "    for i in range(len(a_permutation)-1,0,-1):\n",
    "        if a_permutation[i][0] == '0':\n",
    "            del a_permutation[i]\n",
    "    \n",
    "    for i in range(len(a_permutation)):\n",
    "        if int(a_permutation[i]) < b:\n",
    "\n",
    "            a_avail_permutation.append(int(a_permutation[i]))\n",
    "    \n",
    "    return a_avail_permutation\n",
    "\n",
    "def return_c(a_avail_permutation):\n",
    "    print(max(a_avail_permutation))\n",
    "\n",
    "A, B = map(int, input().split())\n",
    "#A, B = 789, 123\n",
    "    \n",
    "a_permutation = mk_permutation(A)\n",
    "a_avail_permutation = mk_avail_permutation(a_permutation,B)\n",
    "\n",
    "if len(a_avail_permutation) == 0:\n",
    "    print(-1)\n",
    "else:\n",
    "    return_c(a_avail_permutation)"
   ]
  },
  {
   "cell_type": "code",
   "execution_count": 7,
   "id": "87e25e64",
   "metadata": {},
   "outputs": [
    {
     "name": "stdout",
     "output_type": "stream",
     "text": [
      "3421\n"
     ]
    }
   ],
   "source": [
    "import sys\n",
    "import itertools\n",
    "\n",
    "def input():\n",
    "    return sys.stdin.readline().strip()\n",
    "\n",
    "a, b = input().split()\n",
    "b = int(b)\n",
    "#a, b = '1234', 3456\n",
    "c = -1 #default 값 -1\n",
    "\n",
    "a_permutation = list((map(list, itertools.permutations(a))))\n",
    "for i in range(len(a_permutation)):\n",
    "    a_permutation[i] = ''.join(a_permutation[i])\n",
    "    \n",
    "# a_avail_permutation = []    \n",
    "# # 최대 10! 반복\n",
    "# for i in range(len(a_permutation)-1,0,-1):\n",
    "#     if a_permutation[i][0] == '0':\n",
    "#         del a_permutation[i]\n",
    "\n",
    "# for i in range(len(a_permutation)):\n",
    "#     if int(a_permutation[i]) < b:\n",
    "\n",
    "#         a_avail_permutation.append(int(a_permutation[i]))\n",
    "\n",
    "for a_avail in a_permutation:\n",
    "    # 0으로 시작하는지 \n",
    "    first = a_avail[0]\n",
    "    a_avail = int(a_avail)\n",
    "    if first != '0' and a_avail < b:\n",
    "        c = max(c,a_avail)\n",
    "\n",
    "# if len(a_avail_permutation) == 0:\n",
    "#     print(-1)\n",
    "# else:\n",
    "#     print(max(a_avail_permutation))\n",
    "print(c)"
   ]
  },
  {
   "cell_type": "code",
   "execution_count": null,
   "id": "a9f736a3",
   "metadata": {},
   "outputs": [],
   "source": [
    "# 답지\n",
    "# import sys\n",
    "# import itertools\n",
    "# input = sys.stdin.readline\n",
    "\n",
    "# a, b = input().split()\n",
    "# b = int(b)\n",
    "# lst = list(map(''.join, list(itertools.permutations(a))))\n",
    "# c = -1\n",
    "# for num in lst:\n",
    "#     first = num[0]\n",
    "#     num = int(num)\n",
    "#     if b >= num and first != '0':\n",
    "#         c = max(c, num)\n",
    "# print(c)"
   ]
  }
 ],
 "metadata": {
  "kernelspec": {
   "display_name": "Python 3",
   "language": "python",
   "name": "python3"
  },
  "language_info": {
   "codemirror_mode": {
    "name": "ipython",
    "version": 3
   },
   "file_extension": ".py",
   "mimetype": "text/x-python",
   "name": "python",
   "nbconvert_exporter": "python",
   "pygments_lexer": "ipython3",
   "version": "3.8.8"
  }
 },
 "nbformat": 4,
 "nbformat_minor": 5
}
